{
 "cells": [
  {
   "cell_type": "code",
   "execution_count": 1,
   "metadata": {},
   "outputs": [],
   "source": [
    "class person:\n",
    "    attr1 = 'Clara'\n",
    "    attr2 = 'vote'\n",
    "obj = person()    "
   ]
  },
  {
   "cell_type": "code",
   "execution_count": 2,
   "metadata": {},
   "outputs": [
    {
     "data": {
      "text/plain": [
       "'Clara'"
      ]
     },
     "execution_count": 2,
     "metadata": {},
     "output_type": "execute_result"
    }
   ],
   "source": [
    "obj.attr1"
   ]
  },
  {
   "cell_type": "code",
   "execution_count": 1,
   "metadata": {},
   "outputs": [],
   "source": [
    "class person:\n",
    "    def __init__(self,name,colour,height,weight):\n",
    "        self.name = name\n",
    "        self.colour = colour\n",
    "        self.height = height\n",
    "        self.weight = weight\n",
    "    def talk(self): \n",
    "        print(f'my name is {self.name}')\n",
    "    def vote(self,age):\n",
    "        if age >= 18:\n",
    "              print('Hey you are eligible to vote')\n",
    "        else:\n",
    "              print('opps, you are not eligible to vote')\n",
    "person1 = person('Clara','Caramel',1.65,65)"
   ]
  },
  {
   "cell_type": "code",
   "execution_count": 2,
   "metadata": {},
   "outputs": [
    {
     "name": "stdout",
     "output_type": "stream",
     "text": [
      "my name is Clara\n",
      "None\n",
      "Hey you are eligible to vote\n",
      "None\n"
     ]
    }
   ],
   "source": [
    "print(person1.talk())\n",
    "print(person1.vote(45))"
   ]
  },
  {
   "cell_type": "code",
   "execution_count": 11,
   "metadata": {},
   "outputs": [],
   "source": [
    "# using class and object, write a program to build a car game simulation with the following attributes\n",
    "### Brand, Model, Colour, Year and speed\n",
    "# Having the following method\n",
    "### Start, Gear,(write a condition to perform change of gear operation),\n",
    "### nitro(write a condition to engage or disengage the nitro) and stop\n",
    "# create an object to perform this functions"
   ]
  },
  {
   "cell_type": "code",
   "execution_count": 29,
   "metadata": {},
   "outputs": [],
   "source": [
    "class cargame:\n",
    "    def __init__(self,Brand,Model,Colour,Year,Speed):\n",
    "        self.Brand = Brand\n",
    "        self.Model = Model\n",
    "        self.Colour = Colour\n",
    "        self.Year = Year\n",
    "        self.Speed = Speed\n",
    "    def start (self):\n",
    "        print(f'{self.Brand} {self.Model} has started')\n",
    "              \n",
    "    def gear(self,choice):\n",
    "        if choice == 1:\n",
    "              print('You have begun')\n",
    "        elif choice == 2:\n",
    "            print('Forge on')\n",
    "        elif choice == 3:\n",
    "            print('You have reached your average speed limit')\n",
    "        elif choice == 4:\n",
    "            print('Speed 1')\n",
    "        elif choice == 5:\n",
    "            print('Speed 2')\n",
    "        elif choice == 6:\n",
    "            print('Reverse')\n",
    "    def nitro(self,choice):\n",
    "        if choice == 1:\n",
    "              print('Nitro engaged')\n",
    "        elif choice == 2:\n",
    "              print('Nitro disengaged')\n",
    "    def stop(self):\n",
    "              print(f'{self.Brand} {self.Model} has stopped')\n",
    "                    \n",
    "cargame1 = cargame('Mercedes Benz','GLK','Black', 2013,300)"
   ]
  },
  {
   "cell_type": "code",
   "execution_count": 30,
   "metadata": {},
   "outputs": [
    {
     "name": "stdout",
     "output_type": "stream",
     "text": [
      "Mercedes Benz GLK has started\n",
      "None\n",
      "Reverse\n",
      "None\n",
      "Nitro engaged\n",
      "None\n",
      "Mercedes Benz GLK has stopped\n",
      "None\n"
     ]
    }
   ],
   "source": [
    "print(cargame1.start())\n",
    "print(cargame1.gear(6))\n",
    "print(cargame1.nitro(1))\n",
    "print(cargame1.stop())"
   ]
  },
  {
   "cell_type": "code",
   "execution_count": 34,
   "metadata": {},
   "outputs": [],
   "source": [
    "class cargame2(cargame):\n",
    "    def openroof(self,choice):\n",
    "        if choice == 1:\n",
    "            print('roof openned')\n",
    "        elif choice == 2:\n",
    "            print('Roof closed')\n",
    "cargame3 = cargame2('Mercedes Benz','A6','White',2021,350)"
   ]
  },
  {
   "cell_type": "code",
   "execution_count": 36,
   "metadata": {},
   "outputs": [
    {
     "name": "stdout",
     "output_type": "stream",
     "text": [
      "Mercedes Benz A6 has started\n",
      "None\n",
      "Reverse\n",
      "None\n",
      "Nitro engaged\n",
      "None\n",
      "Mercedes Benz A6 has stopped\n",
      "None\n"
     ]
    }
   ],
   "source": [
    "print(cargame3.start())\n",
    "print(cargame3.gear(6))\n",
    "print(cargame3.nitro(1))\n",
    "print(cargame3.stop())"
   ]
  },
  {
   "cell_type": "code",
   "execution_count": null,
   "metadata": {},
   "outputs": [],
   "source": []
  },
  {
   "cell_type": "code",
   "execution_count": null,
   "metadata": {},
   "outputs": [],
   "source": []
  }
 ],
 "metadata": {
  "kernelspec": {
   "display_name": "Python 3",
   "language": "python",
   "name": "python3"
  },
  "language_info": {
   "codemirror_mode": {
    "name": "ipython",
    "version": 3
   },
   "file_extension": ".py",
   "mimetype": "text/x-python",
   "name": "python",
   "nbconvert_exporter": "python",
   "pygments_lexer": "ipython3",
   "version": "3.8.3"
  }
 },
 "nbformat": 4,
 "nbformat_minor": 4
}

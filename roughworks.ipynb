{
 "cells": [
  {
   "cell_type": "code",
   "execution_count": 2,
   "metadata": {},
   "outputs": [
    {
     "name": "stdout",
     "output_type": "stream",
     "text": [
      "[]\n",
      "['Jeff', 'Bill', 'Steve']\n"
     ]
    }
   ],
   "source": [
    "mylist=[] \n",
    "print(mylist)\n",
    "\n",
    "names=[\"Jeff\",\"Bill\",\"Steve\"] \n",
    "print(names)"
   ]
  },
  {
   "cell_type": "code",
   "execution_count": 3,
   "metadata": {},
   "outputs": [
    {
     "name": "stdout",
     "output_type": "stream",
     "text": [
      "()\n",
      "('Jeff', 'Bill', 'Steve')\n"
     ]
    }
   ],
   "source": [
    "tpl=()\n",
    "print(tpl)\n",
    "\n",
    "names = ('Jeff', 'Bill','Steve')\n",
    "print(names)"
   ]
  },
  {
   "cell_type": "code",
   "execution_count": 4,
   "metadata": {},
   "outputs": [],
   "source": [
    "Capitals ={\"USA\": \"Washingnton D.C\", \"France\": \"Paris\", \"India\": \"New Delhi\"}\n",
    "for key in Capitals:\n",
    "    print(\"Key = \", \"Value = \" + Capitals[Key])"
   ]
  },
  {
   "cell_type": "code",
   "execution_count": null,
   "metadata": {},
   "outputs": [],
   "source": [
    "def Questions(Iq_test):\n",
    "    print('Welcome to Sleazy Intelligence test')\n",
    "    "
   ]
  }
 ],
 "metadata": {
  "kernelspec": {
   "display_name": "Python 3",
   "language": "python",
   "name": "python3"
  },
  "language_info": {
   "codemirror_mode": {
    "name": "ipython",
    "version": 3
   },
   "file_extension": ".py",
   "mimetype": "text/x-python",
   "name": "python",
   "nbconvert_exporter": "python",
   "pygments_lexer": "ipython3",
   "version": "3.8.3"
  }
 },
 "nbformat": 4,
 "nbformat_minor": 4
}

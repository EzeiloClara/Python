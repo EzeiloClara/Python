{
 "cells": [
  {
   "cell_type": "code",
   "execution_count": 5,
   "metadata": {},
   "outputs": [
    {
     "name": "stdout",
     "output_type": "stream",
     "text": [
      "Enter the first number45\n",
      "Enter the second number45\n",
      "1.0\n"
     ]
    }
   ],
   "source": [
    "try:\n",
    "    num1 = int(input('Enter the first number'))\n",
    "    num2 = int(input('Enter the second number'))\n",
    "    print(num1/num2)\n",
    "except:\n",
    "    print('you have encountered one or more errors')"
   ]
  },
  {
   "cell_type": "code",
   "execution_count": 6,
   "metadata": {},
   "outputs": [
    {
     "name": "stdout",
     "output_type": "stream",
     "text": [
      "Enter the first number50\n",
      "Enter the second number0\n",
      "you have encountered one or more errors\n"
     ]
    }
   ],
   "source": [
    "try:\n",
    "    num1 = int(input('Enter the first number'))\n",
    "    num2 = int(input('Enter the second number'))\n",
    "    print(num1/num2)\n",
    "except:\n",
    "    print('you have encountered one or more errors')"
   ]
  },
  {
   "cell_type": "code",
   "execution_count": 10,
   "metadata": {},
   "outputs": [
    {
     "name": "stdout",
     "output_type": "stream",
     "text": [
      "Enter the first number35\n",
      "Enter the second number40\n",
      "0.875\n"
     ]
    }
   ],
   "source": [
    "try:\n",
    "    num1 = int(input('Enter the first number'))\n",
    "    num2 = int(input('Enter the second number'))\n",
    "    print(num1/num2)\n",
    "except SyntaxError:\n",
    "    print('Hey one or more lines of code is having a syntax error')\n",
    "except EOFError:\n",
    "    print('Hey one of your brackets is open')\n",
    "except ValueError:\n",
    "    print('You have entered a wrong value')\n",
    "except ZeroDivisionError:\n",
    "    print('hey a number can not be divisible by 0')\n",
    "except:\n",
    "    print('You have encountered one or more errors')"
   ]
  },
  {
   "cell_type": "code",
   "execution_count": 14,
   "metadata": {},
   "outputs": [
    {
     "name": "stdout",
     "output_type": "stream",
     "text": [
      "Enter the first number45\n",
      "Enter the second number45\n",
      "1.0\n",
      "248063644451341145494649182395412689744530581492654164321720600128173828125\n"
     ]
    }
   ],
   "source": [
    "try:\n",
    "    num1 = int(input('Enter the first number'))\n",
    "    num2 = int(input('Enter the second number'))\n",
    "    print(num1/num2)\n",
    "except SyntaxError:\n",
    "    print('Hey one or more lines of code is having a syntax error')\n",
    "except EOFError:\n",
    "    print('Hey one of your brackets is open')\n",
    "except ValueError:\n",
    "    print('You have entered a wrong value')\n",
    "except ZeroDivisionError:\n",
    "    print('hey a number can not be divisible by 0')\n",
    "except:\n",
    "    print('You have encountered one or more errors')\n",
    "else:\n",
    "    print(num1 ** num2)"
   ]
  },
  {
   "cell_type": "code",
   "execution_count": 15,
   "metadata": {},
   "outputs": [
    {
     "name": "stdout",
     "output_type": "stream",
     "text": [
      "Enter the first number40\n",
      "Enter the second number0\n",
      "hey a number can not be divisible by 0\n",
      "End of program\n"
     ]
    }
   ],
   "source": [
    "try:\n",
    "    num1 = int(input('Enter the first number'))\n",
    "    num2 = int(input('Enter the second number'))\n",
    "    print(num1/num2)\n",
    "except SyntaxError:\n",
    "    print('Hey one or more lines of code is having a syntax error')\n",
    "except EOFError:\n",
    "    print('Hey one of your brackets is open')\n",
    "except ValueError:\n",
    "    print('You have entered a wrong value')\n",
    "except ZeroDivisionError:\n",
    "    print('hey a number can not be divisible by 0')\n",
    "except:\n",
    "    print('You have encountered one or more errors')\n",
    "else:\n",
    "    print(num1 ** num2)\n",
    "finally:\n",
    "    print('End of program')"
   ]
  },
  {
   "cell_type": "markdown",
   "metadata": {},
   "source": [
    "# using error handeling write a simple calculator that will add, subtract, multiply and divide any two numbers a user provides"
   ]
  },
  {
   "cell_type": "code",
   "execution_count": 20,
   "metadata": {},
   "outputs": [
    {
     "name": "stdout",
     "output_type": "stream",
     "text": [
      "Enter your first number45\n",
      "Enter your second number5\n",
      "Input a choice 1,2,3 or 44\n",
      "40\n",
      "184528125\n",
      "End of program\n"
     ]
    }
   ],
   "source": [
    "try:\n",
    "    num1 = int(input('Enter your first number'))\n",
    "    num2 = int(input('Enter your second number'))\n",
    "    choice = int(input('Input a choice 1,2,3 or 4'))\n",
    "    if choice == 1:\n",
    "        print(num1/num2)\n",
    "    \n",
    "    elif choice  == 2:\n",
    "        print(num1 = num2)\n",
    "    \n",
    "    elif  choice == 3:\n",
    "        print(num1 * num2)\n",
    "        \n",
    "    elif  choice == 4:\n",
    "        print(num1 - num2)\n",
    "    \n",
    "except SyntaxError:\n",
    "    print('Hey one or more lines of code is having a syntax error')\n",
    "except EOFError:\n",
    "    print('Hey one of your brackets is open')\n",
    "except ValueError:\n",
    "    print('You have entered a wrong value')\n",
    "except ZeroDivisionError:\n",
    "    print('hey a number can not be divisible by 0')\n",
    "except:\n",
    "    print('You have encountered one or more errors')\n",
    "else:\n",
    "    print(num1 ** num2)\n",
    "finally:\n",
    "    print('End of program')"
   ]
  },
  {
   "cell_type": "code",
   "execution_count": null,
   "metadata": {},
   "outputs": [],
   "source": []
  }
 ],
 "metadata": {
  "kernelspec": {
   "display_name": "Python 3",
   "language": "python",
   "name": "python3"
  },
  "language_info": {
   "codemirror_mode": {
    "name": "ipython",
    "version": 3
   },
   "file_extension": ".py",
   "mimetype": "text/x-python",
   "name": "python",
   "nbconvert_exporter": "python",
   "pygments_lexer": "ipython3",
   "version": "3.8.3"
  }
 },
 "nbformat": 4,
 "nbformat_minor": 4
}

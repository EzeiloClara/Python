{
 "cells": [
  {
   "cell_type": "code",
   "execution_count": 21,
   "metadata": {},
   "outputs": [
    {
     "ename": "TypeError",
     "evalue": "__init__() takes 2 positional arguments but 3 were given",
     "output_type": "error",
     "traceback": [
      "\u001b[1;31m---------------------------------------------------------------------------\u001b[0m",
      "\u001b[1;31mTypeError\u001b[0m                                 Traceback (most recent call last)",
      "\u001b[1;32m<ipython-input-21-dcc0b1231a4a>\u001b[0m in \u001b[0;36m<module>\u001b[1;34m\u001b[0m\n\u001b[0;32m      8\u001b[0m         \u001b[0mprint\u001b[0m\u001b[1;33m(\u001b[0m\u001b[1;34m'This test comprises of 3 question'\u001b[0m\u001b[1;33m)\u001b[0m\u001b[1;33m\u001b[0m\u001b[1;33m\u001b[0m\u001b[0m\n\u001b[0;32m      9\u001b[0m \u001b[1;33m\u001b[0m\u001b[0m\n\u001b[1;32m---> 10\u001b[1;33m \u001b[0mQuestion_py\u001b[0m \u001b[1;33m=\u001b[0m \u001b[0mIqtest\u001b[0m\u001b[1;33m(\u001b[0m\u001b[1;34m'Wechsler Intelligence test'\u001b[0m\u001b[1;33m,\u001b[0m\u001b[1;36m3\u001b[0m\u001b[1;33m)\u001b[0m\u001b[1;33m\u001b[0m\u001b[1;33m\u001b[0m\u001b[0m\n\u001b[0m",
      "\u001b[1;31mTypeError\u001b[0m: __init__() takes 2 positional arguments but 3 were given"
     ]
    }
   ],
   "source": [
    "class Question_py:\n",
    "    def __init__(self,prompts,answers):\n",
    "        self.prompts = prompts\n",
    "        self.answers = answers\n",
    "    def start(self):\n",
    "        print(f'Welcome to {self.prompt}')\n",
    "    def Guide(self):\n",
    "        print('This test comprises of 3 question')\n",
    "\n",
    "Question_py = Iqtest('Wechsler Intelligence test',3)"
   ]
  },
  {
   "cell_type": "code",
   "execution_count": 14,
   "metadata": {},
   "outputs": [
    {
     "ename": "TypeError",
     "evalue": "start() missing 1 required positional argument: 'self'",
     "output_type": "error",
     "traceback": [
      "\u001b[1;31m---------------------------------------------------------------------------\u001b[0m",
      "\u001b[1;31mTypeError\u001b[0m                                 Traceback (most recent call last)",
      "\u001b[1;32m<ipython-input-14-3b283ff06ed4>\u001b[0m in \u001b[0;36m<module>\u001b[1;34m\u001b[0m\n\u001b[1;32m----> 1\u001b[1;33m \u001b[0mprint\u001b[0m\u001b[1;33m(\u001b[0m\u001b[0mQuestion_py\u001b[0m\u001b[1;33m.\u001b[0m\u001b[0mstart\u001b[0m\u001b[1;33m(\u001b[0m\u001b[1;33m)\u001b[0m\u001b[1;33m)\u001b[0m\u001b[1;33m\u001b[0m\u001b[1;33m\u001b[0m\u001b[0m\n\u001b[0m\u001b[0;32m      2\u001b[0m \u001b[0mprint\u001b[0m\u001b[1;33m(\u001b[0m\u001b[0mQuestion_py\u001b[0m\u001b[1;33m.\u001b[0m\u001b[0mGuide\u001b[0m\u001b[1;33m(\u001b[0m\u001b[1;33m)\u001b[0m\u001b[1;33m)\u001b[0m\u001b[1;33m\u001b[0m\u001b[1;33m\u001b[0m\u001b[0m\n",
      "\u001b[1;31mTypeError\u001b[0m: start() missing 1 required positional argument: 'self'"
     ]
    }
   ],
   "source": [
    "print(Question_py.start())\n",
    "print(Question_py.Guide())"
   ]
  },
  {
   "cell_type": "code",
   "execution_count": 14,
   "metadata": {},
   "outputs": [
    {
     "name": "stdout",
     "output_type": "stream",
     "text": [
      "Odometer is to Mileage as Compass is to\n",
      "a. Direction\n",
      "b. Temperature\n",
      "c. Speed\n",
      "\n",
      "a\n",
      "What does \"He\" stand for  in the periodic table\n",
      "a. Holimium\n",
      "b. Hydrogen\n",
      "c. Helium\n",
      "\n",
      "c\n",
      "What flies without wings?\n",
      "a. Pigs\n",
      "b. Time\n",
      "c. Ghosts\n",
      "\n",
      "b\n",
      "You got3/3correct\n"
     ]
    }
   ],
   "source": [
    "question_prompts = [\n",
    "    'Odometer is to Mileage as Compass is to\\na. Direction\\nb. Temperature\\nc. Speed\\n\\n',\n",
    "    'What does \\\"He\\\" stand for  in the periodic table\\na. Holimium\\nb. Hydrogen\\nc. Helium\\n\\n',\n",
    "    'What flies without wings?\\na. Pigs\\nb. Time\\nc. Ghosts\\n\\n'\n",
    "]\n",
    "\n",
    "questions = [\n",
    "    Iqtest(question_prompts[0],\"a\"),\n",
    "    Iqtest(question_prompts[1],\"c\"),\n",
    "    Iqtest(question_prompts[2],\"b\"),\n",
    "]\n",
    "\n",
    "def run_test(questions):\n",
    "    score = 0\n",
    "    for question in questions:\n",
    "        answer = input(question.prompt)\n",
    "        if answer == question.answer:\n",
    "            score += 1\n",
    "    print(\"You got\" +  str(score) + \"/\" + str(len(questions)) +  \"correct\")\n",
    "    \n",
    "run_test(questions)\n",
    "Question_py = Iqtest('Wechsler Intelligence test',3)"
   ]
  },
  {
   "cell_type": "code",
   "execution_count": null,
   "metadata": {},
   "outputs": [],
   "source": [
    "print()"
   ]
  }
 ],
 "metadata": {
  "kernelspec": {
   "display_name": "Python 3",
   "language": "python",
   "name": "python3"
  },
  "language_info": {
   "codemirror_mode": {
    "name": "ipython",
    "version": 3
   },
   "file_extension": ".py",
   "mimetype": "text/x-python",
   "name": "python",
   "nbconvert_exporter": "python",
   "pygments_lexer": "ipython3",
   "version": "3.8.3"
  }
 },
 "nbformat": 4,
 "nbformat_minor": 4
}

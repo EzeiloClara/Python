{
 "cells": [
  {
   "cell_type": "markdown",
   "metadata": {},
   "source": [
    "# write a program to find numbers divisible by 7 and multiple of 5 between 1500 and 2700"
   ]
  },
  {
   "cell_type": "code",
   "execution_count": 7,
   "metadata": {},
   "outputs": [
    {
     "name": "stdout",
     "output_type": "stream",
     "text": [
      "[1505, 1540, 1575, 1610, 1645, 1680, 1715, 1750, 1785, 1820, 1855, 1890, 1925, 1960, 1995, 2030, 2065, 2100, 2135, 2170, 2205, 2240, 2275, 2310, 2345, 2380, 2415, 2450, 2485, 2520, 2555, 2590, 2625, 2660, 2695]\n"
     ]
    }
   ],
   "source": [
    "num = []\n",
    "for x in range(1500,2701):\n",
    "    if (x % 7 == 0) and (x % 5 == 0):\n",
    "        num.append(x)\n",
    "        \n",
    "print(num)"
   ]
  },
  {
   "cell_type": "markdown",
   "metadata": {},
   "source": [
    "# Write a program to accept a word from a user and reverse it"
   ]
  },
  {
   "cell_type": "code",
   "execution_count": 8,
   "metadata": {},
   "outputs": [
    {
     "name": "stdout",
     "output_type": "stream",
     "text": [
      "Please provide a wordLounge\n",
      "egnuoL\n"
     ]
    }
   ],
   "source": [
    "word = input('Please provide a word')\n",
    "print(word[::-1])"
   ]
  },
  {
   "cell_type": "markdown",
   "metadata": {},
   "source": [
    "# write a program that prints all numbers from 0 to 6 except 3 and 6\n"
   ]
  },
  {
   "cell_type": "code",
   "execution_count": 13,
   "metadata": {},
   "outputs": [
    {
     "name": "stdout",
     "output_type": "stream",
     "text": [
      "0 1 2 4 5 "
     ]
    }
   ],
   "source": [
    "for x in range(6):\n",
    "    if (x ==3 or x==6):\n",
    "        continue\n",
    "    print(x, end=' ')"
   ]
  },
  {
   "cell_type": "markdown",
   "metadata": {},
   "source": [
    "# ASSESS MODE"
   ]
  },
  {
   "cell_type": "code",
   "execution_count": 14,
   "metadata": {},
   "outputs": [],
   "source": [
    "file = open('demo.doc','w')\n",
    "file.write('''Python is fun\n",
    "python is educative\n",
    "python is easy to learn\n",
    "''')\n",
    "file.close()"
   ]
  },
  {
   "cell_type": "code",
   "execution_count": 16,
   "metadata": {},
   "outputs": [
    {
     "name": "stdout",
     "output_type": "stream",
     "text": [
      "Python is fun\n",
      "python is educative\n",
      "python is easy to learn\n",
      "\n"
     ]
    }
   ],
   "source": [
    "file1 = open('demo.doc','r')\n",
    "print(file1.read())\n",
    "file1.close()"
   ]
  },
  {
   "cell_type": "code",
   "execution_count": 21,
   "metadata": {},
   "outputs": [],
   "source": [
    "file2 = open('demo.doc','a')\n",
    "file2.write('''/nPython is also a high level language\n",
    "Python is a general purpose language\n",
    "Research said that 90% of python users are data scientist\n",
    "''')\n",
    "file.close()"
   ]
  },
  {
   "cell_type": "code",
   "execution_count": 22,
   "metadata": {},
   "outputs": [
    {
     "name": "stdout",
     "output_type": "stream",
     "text": [
      "Python is fun\n",
      "python is educative\n",
      "python is easy to learn\n",
      "/n Python is also a high level language\n",
      "Python is a general purpose language\n",
      "Research said that 90% of python users are data scientist\n",
      "/n Python is also a high level language\n",
      "Python is a general purpose language\n",
      "Research said that 90% of python users are data scientist\n",
      "Python is created from c++/nPython is also a high level language\n",
      "Python is a general purpose language\n",
      "Research said that 90% of python users are data scientist\n",
      "\n"
     ]
    }
   ],
   "source": [
    "file2 = open('demo.doc','r')\n",
    "print(file2.read())\n",
    "file.close()"
   ]
  },
  {
   "cell_type": "code",
   "execution_count": 23,
   "metadata": {},
   "outputs": [
    {
     "name": "stdout",
     "output_type": "stream",
     "text": [
      "Python is fun\n",
      "python is educative\n",
      "python is easy to learn\n",
      "/n Python is also a high level language\n",
      "Python is a general purpose language\n",
      "Research said that 90% of python users are data scientist\n",
      "/n Python is also a high level language\n",
      "Python is a general purpose language\n",
      "Research said that 90% of python users are data scientist\n",
      "Python is created from c++/nPython is also a high level language\n",
      "Python is a general purpose language\n",
      "Research said that 90% of python users are data scientist\n",
      "\n"
     ]
    }
   ],
   "source": [
    "file3 = open('demo.doc','r+')\n",
    "print(file3.read())\n",
    "file3.write('Python is created from c++')\n",
    "file3.close()"
   ]
  },
  {
   "cell_type": "code",
   "execution_count": 24,
   "metadata": {},
   "outputs": [],
   "source": [
    "# create a text file called guest\n",
    "# write to the file 10 guest(name and time of arrival)\n",
    "# read and add extra 5 guest"
   ]
  },
  {
   "cell_type": "code",
   "execution_count": 10,
   "metadata": {},
   "outputs": [],
   "source": [
    "guest = open('demo.dc','w')\n",
    "guest.write('''/n \n",
    "1.Laura - 10:15am\n",
    "2.Bethel - 10:15am\n",
    "3.Susan - 10:20am\n",
    "4.Caroline - 10:22am\n",
    "5. Cynthia - 10:30am\n",
    "6.Kelly - 10:25am\n",
    "7.Marvis - 10:31am\n",
    "8.Alexa - 10:40am\n",
    "9.Jacinta - 10:35am\n",
    "10.Martins - 10:45am\n",
    "''')\n",
    "guest.close()"
   ]
  },
  {
   "cell_type": "code",
   "execution_count": 13,
   "metadata": {},
   "outputs": [
    {
     "name": "stdout",
     "output_type": "stream",
     "text": [
      "/n \n",
      "1.Laura - 10:15am\n",
      "2.Bethel - 10:15am\n",
      "3.Susan - 10:20am\n",
      "4.Caroline - 10:22am\n",
      "5. Cynthia - 10:30am\n",
      "6.Kelly - 10:25am\n",
      "7.Marvis - 10:31am\n",
      "8.Alexa - 10:40am\n",
      "9.Jacinta - 10:35am\n",
      "10.Martins - 10:45am\n",
      "\n"
     ]
    },
    {
     "ename": "UnsupportedOperation",
     "evalue": "not writable",
     "output_type": "error",
     "traceback": [
      "\u001b[1;31m---------------------------------------------------------------------------\u001b[0m",
      "\u001b[1;31mUnsupportedOperation\u001b[0m                      Traceback (most recent call last)",
      "\u001b[1;32m<ipython-input-13-ce8316d44df4>\u001b[0m in \u001b[0;36m<module>\u001b[1;34m\u001b[0m\n\u001b[0;32m      1\u001b[0m \u001b[0mguest1\u001b[0m \u001b[1;33m=\u001b[0m \u001b[0mopen\u001b[0m\u001b[1;33m(\u001b[0m\u001b[1;34m'demo.doc'\u001b[0m\u001b[1;33m,\u001b[0m\u001b[1;34m'r'\u001b[0m\u001b[1;33m)\u001b[0m\u001b[1;33m\u001b[0m\u001b[1;33m\u001b[0m\u001b[0m\n\u001b[0;32m      2\u001b[0m \u001b[0mprint\u001b[0m\u001b[1;33m(\u001b[0m\u001b[0mguest1\u001b[0m\u001b[1;33m.\u001b[0m\u001b[0mread\u001b[0m\u001b[1;33m(\u001b[0m\u001b[1;33m)\u001b[0m\u001b[1;33m)\u001b[0m\u001b[1;33m\u001b[0m\u001b[1;33m\u001b[0m\u001b[0m\n\u001b[1;32m----> 3\u001b[1;33m guest1.write('''\n\u001b[0m\u001b[0;32m      4\u001b[0m \u001b[1;36m11.\u001b[0m\u001b[0mAdebayo\u001b[0m \u001b[1;33m-\u001b[0m \u001b[1;36m11\u001b[0m\u001b[1;33m:\u001b[0m\u001b[1;36m00\u001b[0m\u001b[0mam\u001b[0m\u001b[1;33m\u001b[0m\u001b[1;33m\u001b[0m\u001b[0m\n\u001b[0;32m      5\u001b[0m \u001b[1;36m12.\u001b[0m\u001b[0mSelene\u001b[0m \u001b[1;33m-\u001b[0m \u001b[1;36m11\u001b[0m\u001b[1;33m:\u001b[0m\u001b[1;36m0\u001b[0m\u001b[1;36m5\u001b[0m\u001b[0mam\u001b[0m\u001b[1;33m\u001b[0m\u001b[1;33m\u001b[0m\u001b[0m\n",
      "\u001b[1;31mUnsupportedOperation\u001b[0m: not writable"
     ]
    }
   ],
   "source": [
    "guest1 = open('demo.doc','r')\n",
    "print(guest1.read())\n",
    "guest1.write('''\n",
    "11.Adebayo - 11:00am\n",
    "12.Selene - 11:05am\n",
    "13.Mercy - 11:09am\n",
    "14.Kira - 11:15am\n",
    "15.Ava - 11:12am\n",
    "''')\n",
    "guest1.close()"
   ]
  },
  {
   "cell_type": "code",
   "execution_count": null,
   "metadata": {},
   "outputs": [],
   "source": []
  }
 ],
 "metadata": {
  "kernelspec": {
   "display_name": "Python 3",
   "language": "python",
   "name": "python3"
  },
  "language_info": {
   "codemirror_mode": {
    "name": "ipython",
    "version": 3
   },
   "file_extension": ".py",
   "mimetype": "text/x-python",
   "name": "python",
   "nbconvert_exporter": "python",
   "pygments_lexer": "ipython3",
   "version": "3.8.3"
  }
 },
 "nbformat": 4,
 "nbformat_minor": 4
}

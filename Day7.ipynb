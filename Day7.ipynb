{
 "cells": [
  {
   "cell_type": "code",
   "execution_count": 1,
   "metadata": {},
   "outputs": [
    {
     "name": "stdout",
     "output_type": "stream",
     "text": [
      "Welcome to Univesity of Nigeria Nsukka\n"
     ]
    }
   ],
   "source": [
    "def greet():\n",
    "    print('Welcome to Univesity of Nigeria Nsukka')\n",
    "greet()    "
   ]
  },
  {
   "cell_type": "code",
   "execution_count": 4,
   "metadata": {},
   "outputs": [
    {
     "name": "stdout",
     "output_type": "stream",
     "text": [
      "Welcome to University of nigeria Clara\n"
     ]
    }
   ],
   "source": [
    "def greet(name):\n",
    "    print(f'Welcome to University of nigeria {name}')\n",
    "greet('Clara')          "
   ]
  },
  {
   "cell_type": "code",
   "execution_count": 7,
   "metadata": {},
   "outputs": [
    {
     "name": "stdout",
     "output_type": "stream",
     "text": [
      "Please provide your nameClara\n",
      "Please provide your genderFemale\n",
      "Please provide your age15\n",
      "Welcome to our presidential election\n",
      "OPPS, you are not eligible to vote\n"
     ]
    }
   ],
   "source": [
    "def votingys(name, gennder,age):\n",
    "    print(f'Welcome to our presidential election')\n",
    "    \n",
    "    if age >= 18:\n",
    "        print ('Congratulations you are eligibe to vote proceed to PO')\n",
    "    else:\n",
    "            print('OPPS, you are not eligible to vote')\n",
    "votingys(input('Please provide your name'), input('Please provide your gender'), int(input('Please provide your age')))        "
   ]
  },
  {
   "cell_type": "code",
   "execution_count": null,
   "metadata": {},
   "outputs": [],
   "source": []
  }
 ],
 "metadata": {
  "kernelspec": {
   "display_name": "Python 3",
   "language": "python",
   "name": "python3"
  },
  "language_info": {
   "codemirror_mode": {
    "name": "ipython",
    "version": 3
   },
   "file_extension": ".py",
   "mimetype": "text/x-python",
   "name": "python",
   "nbconvert_exporter": "python",
   "pygments_lexer": "ipython3",
   "version": "3.8.3"
  }
 },
 "nbformat": 4,
 "nbformat_minor": 4
}
